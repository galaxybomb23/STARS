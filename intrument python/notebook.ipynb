{
 "cells": [
  {
   "attachments": {},
   "cell_type": "markdown",
   "metadata": {},
   "source": [
    "Imports"
   ]
  },
  {
   "cell_type": "code",
   "execution_count": 67,
   "metadata": {},
   "outputs": [],
   "source": [
    "import easy_scpi as scpi\n",
    "import pyvisa\n",
    "import numpy as np\n",
    "from PIL import Image\n",
    "from scipy.interpolate import interp1d\n",
    "from scipy.optimize import linear_sum_assignment\n",
    "import matplotlib.pyplot as plt\n",
    "from scipy.sparse import coo_matrix\n",
    "import time\n",
    "import regex as re\n"
   ]
  },
  {
   "cell_type": "code",
   "execution_count": 2,
   "metadata": {},
   "outputs": [
    {
     "name": "stdout",
     "output_type": "stream",
     "text": [
      "<PIL.Image.Image image mode=L size=205x126 at 0x7F3B59526B60>\n"
     ]
    }
   ],
   "source": [
    "def convert_to_binary_image(image_path):\n",
    "    # Load the image\n",
    "    image = Image.open(image_path)\n",
    "\n",
    "    # Convert the image to grayscale\n",
    "    image = image.convert('L')\n",
    "\n",
    "    # Threshold the image to convert pixel values to either 0 or 255\n",
    "    threshold = 64\n",
    "    image = image.point(lambda p: p > threshold and 255)\n",
    "\n",
    "    # Convert the image to binary by dividing by 255\n",
    "    image = image.point(lambda p: p // 255)\n",
    "\n",
    "    return image\n",
    "\n",
    "print(convert_to_binary_image('poster.jpeg'))"
   ]
  },
  {
   "attachments": {},
   "cell_type": "markdown",
   "metadata": {},
   "source": [
    "save image"
   ]
  },
  {
   "cell_type": "code",
   "execution_count": 3,
   "metadata": {},
   "outputs": [
    {
     "name": "stdout",
     "output_type": "stream",
     "text": [
      "Conversion completed. x_coordinates.arb and y_coordinates.arb files generated.\n"
     ]
    },
    {
     "data": {
      "image/png": "[encoded data removed]",
      "text/plain": [
       "<Figure size 432x288 with 1 Axes>"
      ]
     },
     "metadata": {
      "needs_background": "light"
     },
     "output_type": "display_data"
    }
   ],
   "source": [
    "\n",
    "\n",
    "def convert_image_to_arb(image_path):\n",
    "    # Load the image and convert it to black and white\n",
    "    image = convert_to_binary_image(image_path)\n",
    "\n",
    "    # Convert the image to a NumPy array\n",
    "    image_array = np.array(image)\n",
    "\n",
    "    # Get the coordinates of black pixels (where pixel value is 0)\n",
    "    black_pixel_indices = np.argwhere(image_array == 1)\n",
    "\n",
    "    # Check if there are any black pixels\n",
    "    if len(black_pixel_indices) == 0:\n",
    "        print(\"No black pixels found in the image.\")\n",
    "        return np.array([], dtype=np.int16), np.array([], dtype=np.int16)\n",
    "\n",
    "    # Extract x and y coordinates from black pixel indices\n",
    "    x_coordinates, y_coordinates = black_pixel_indices[:, 1].astype(\n",
    "        np.int16), (image_array.shape[0] - black_pixel_indices[:, 0] - 1).astype(np.int16)\n",
    "\n",
    "    # Write the x and y coordinates to separate .arb files\n",
    "    np.savetxt('x_coordinates.arb', x_coordinates, fmt='%d')\n",
    "    np.savetxt('y_coordinates.arb', y_coordinates, fmt='%d')\n",
    "\n",
    "    print(\"Conversion completed. x_coordinates.arb and y_coordinates.arb files generated.\")\n",
    "\n",
    "    # Plot the image from x and y coordinates\n",
    "    plt.scatter(x_coordinates, y_coordinates, marker='.', color='black')\n",
    "\n",
    "    return x_coordinates, y_coordinates\n",
    "\n",
    "    \n",
    "\n",
    "\n",
    "# Provide the path to your image\n",
    "image_path = 'goku.jpg'\n",
    "\n",
    "# Convert the image to ARB files\n",
    "X,Y = convert_image_to_arb(image_path)\n",
    "\n",
    "\n"
   ]
  },
  {
   "attachments": {},
   "cell_type": "markdown",
   "metadata": {},
   "source": [
    "Reorder for better readability"
   ]
  },
  {
   "cell_type": "code",
   "execution_count": 4,
   "metadata": {},
   "outputs": [
    {
     "data": {
      "text/plain": [
       "'\\n# Read x and y coordinates from separate files\\nx_coords = X\\ny_coords = Y\\n\\n# Create distance matrix as a sparse matrix\\nnum_points = len(x_coords)\\nrow = []\\ncol = []\\ndata = []\\n\\nprint(\"computing distance matrix\")\\nfor i in range(num_points):\\n    for j in range(i + 1, num_points):\\n        distance = np.sqrt((x_coords[j] - x_coords[i])\\n                           ** 2 + (y_coords[j] - y_coords[i])**2)\\n        row.append(i)\\n        col.append(j)\\n        data.append(distance)\\n\\ndistance_matrix = coo_matrix(\\n    (data, (row, col)), shape=(num_points, num_points))\\n\\nprint(\"Linear sum assignment\")\\n# Solve TSP using the Held-Karp algorithm\\nrow_ind, col_ind = linear_sum_assignment(distance_matrix.toarray())\\n\\nprint(\"getting optimal order\")\\n# Get the optimal order of visiting the points\\noptimal_order = col_ind.tolist()\\n\\nprint(\"plotting\")\\n# Plot the points and the resulting tour\\nplt.scatter(x_coords, y_coords, color=\\'black\\')\\n#plt.plot(x_coords[optimal_order + [optimal_order[0]]],\\n#    y_coords[optimal_order + [optimal_order[0]]], color=\\'red\\')\\nplt.show()\\n\\n# Write the optimal x and y cords to a file\\nnp.savetxt(\\'optimal_x_coordinates.arb\\', x_coords[optimal_order], fmt=\\'%d\\')\\nnp.savetxt(\\'optimal_y_coordinates.arb\\', y_coords[optimal_order], fmt=\\'%d\\')\\n\\nprint(\"Conversion completed. optimal_x_coordinates.arb and optimal_y_coordinates.arb files generated.\")\\n\\n#plot optimal order\\nplt.scatter(x_coords[optimal_order], y_coords[optimal_order], color=\\'black\\')\\n'"
      ]
     },
     "execution_count": 4,
     "metadata": {},
     "output_type": "execute_result"
    }
   ],
   "source": [
    "'''\n",
    "# Read x and y coordinates from separate files\n",
    "x_coords = X\n",
    "y_coords = Y\n",
    "\n",
    "# Create distance matrix as a sparse matrix\n",
    "num_points = len(x_coords)\n",
    "row = []\n",
    "col = []\n",
    "data = []\n",
    "\n",
    "print(\"computing distance matrix\")\n",
    "for i in range(num_points):\n",
    "    for j in range(i + 1, num_points):\n",
    "        distance = np.sqrt((x_coords[j] - x_coords[i])\n",
    "                           ** 2 + (y_coords[j] - y_coords[i])**2)\n",
    "        row.append(i)\n",
    "        col.append(j)\n",
    "        data.append(distance)\n",
    "\n",
    "distance_matrix = coo_matrix(\n",
    "    (data, (row, col)), shape=(num_points, num_points))\n",
    "\n",
    "print(\"Linear sum assignment\")\n",
    "# Solve TSP using the Held-Karp algorithm\n",
    "row_ind, col_ind = linear_sum_assignment(distance_matrix.toarray())\n",
    "\n",
    "print(\"getting optimal order\")\n",
    "# Get the optimal order of visiting the points\n",
    "optimal_order = col_ind.tolist()\n",
    "\n",
    "print(\"plotting\")\n",
    "# Plot the points and the resulting tour\n",
    "plt.scatter(x_coords, y_coords, color='black')\n",
    "#plt.plot(x_coords[optimal_order + [optimal_order[0]]],\n",
    "#    y_coords[optimal_order + [optimal_order[0]]], color='red')\n",
    "plt.show()\n",
    "\n",
    "# Write the optimal x and y cords to a file\n",
    "np.savetxt('optimal_x_coordinates.arb', x_coords[optimal_order], fmt='%d')\n",
    "np.savetxt('optimal_y_coordinates.arb', y_coords[optimal_order], fmt='%d')\n",
    "\n",
    "print(\"Conversion completed. optimal_x_coordinates.arb and optimal_y_coordinates.arb files generated.\")\n",
    "\n",
    "#plot optimal order\n",
    "plt.scatter(x_coords[optimal_order], y_coords[optimal_order], color='black')\n",
    "'''"
   ]
  },
  {
   "cell_type": "code",
   "execution_count": null,
   "metadata": {},
   "outputs": [],
   "source": []
  },
  {
   "attachments": {},
   "cell_type": "markdown",
   "metadata": {},
   "source": [
    "**Connecting to Instruments**"
   ]
  },
  {
   "cell_type": "code",
   "execution_count": 29,
   "metadata": {},
   "outputs": [
    {
     "data": {
      "text/plain": [
       "('ASRL/dev/ttyS4::INSTR',\n",
       " 'ASRL/dev/ttyS0::INSTR',\n",
       " 'ASRL/dev/ttyUSB2::INSTR',\n",
       " 'ASRL/dev/ttyUSB1::INSTR',\n",
       " 'ASRL/dev/ttyUSB0::INSTR',\n",
       " 'USB0::10893::6008::MY55280196::0::INSTR',\n",
       " 'USB0::2391::1560::MY51260020::0::INSTR')"
      ]
     },
     "execution_count": 29,
     "metadata": {},
     "output_type": "execute_result"
    }
   ],
   "source": [
    "# Identify the VISA resource address of your instrument\n",
    "rm = pyvisa.ResourceManager()\n",
    "rm.list_resources()\n"
   ]
  },
  {
   "attachments": {},
   "cell_type": "markdown",
   "metadata": {},
   "source": [
    "\n"
   ]
  },
  {
   "attachments": {},
   "cell_type": "markdown",
   "metadata": {},
   "source": [
    "*init addresses*"
   ]
  },
  {
   "cell_type": "code",
   "execution_count": 80,
   "metadata": {},
   "outputs": [],
   "source": [
    "WAVEGEN_USBIP = 'USB0::2391::11271::MY57801065::0::INSTR'\n",
    "SCOPE_USBIP = 'USB0::10893::6008::MY55280196::0::INSTR'\n",
    "DMM_USBIP = 'USB0::2391::1560::MY51260020::0::INSTR'\n",
    "\n",
    "# Connect to the waveform generator and the oscilloscope\n",
    "rm = pyvisa.ResourceManager()\n"
   ]
  },
  {
   "attachments": {},
   "cell_type": "markdown",
   "metadata": {},
   "source": [
    "*Connect and query the scope*"
   ]
  },
  {
   "cell_type": "code",
   "execution_count": 77,
   "metadata": {},
   "outputs": [
    {
     "name": "stdout",
     "output_type": "stream",
     "text": [
      "Connected to Scope\n",
      "Name KEYSIGHT TECHNOLOGIES,MSO-X 3014T,MY55280196,07.40.2021031200\n",
      "\n"
     ]
    }
   ],
   "source": [
    "#connect to scope\n",
    "scope = rm.open_resource(SCOPE_USBIP)\n",
    "print(\"Connected to Scope\")\n",
    "\n",
    "#query scope\n",
    "scope.write('SYST:REM')\n",
    "print(\"Name \" +scope.query('*IDN?'))\n",
    "\n",
    "# Perform autoscale\n",
    "scope.write(':AUToscale')\n",
    "\n",
    "# Wait for the autoscale to complete\n",
    "time.sleep(5)\n",
    "\n",
    "# Save a screenshot as an image file\n",
    "scope.write(':DISPlay:DATA? PNG, COLor')\n",
    "screenshot_data = scope.read_raw()\n",
    "\n",
    "# Extract the image data from the screenshot data\n",
    "image_data_match = re.search(\n",
    "    rb'(\\x89PNG[\\x00-\\xFF]+\\x49\\x45\\x4E\\x44\\xAE\\x42\\x60\\x82)', screenshot_data)\n",
    "if image_data_match:\n",
    "    image_data = image_data_match.group(0)\n",
    "else:\n",
    "    raise ValueError(\"Unable to extract image data from screenshot data.\")\n",
    "\n",
    "# Save the image file\n",
    "screenshot_file = 'screenshot.png'\n",
    "with open(screenshot_file, 'wb') as file:\n",
    "    file.write(image_data)\n",
    "    \n",
    "#show the scheenshot_data\n",
    "img = Image.open('screenshot.png')\n",
    "img.show()\n",
    "\n",
    "\n",
    "#close the scope\n",
    "scope.close()\n"
   ]
  },
  {
   "attachments": {},
   "cell_type": "markdown",
   "metadata": {},
   "source": [
    "*Connect to Wavegen in Scope*"
   ]
  },
  {
   "cell_type": "code",
   "execution_count": 97,
   "metadata": {},
   "outputs": [
    {
     "name": "stdout",
     "output_type": "stream",
     "text": [
      "Connected to Scope\n",
      "Name KEYSIGHT TECHNOLOGIES,MSO-X 3014T,MY55280196,07.40.2021031200\n",
      "\n",
      "Waveform generator enabled\n",
      "Waveform generator configured\n"
     ]
    }
   ],
   "source": [
    "#connect to scope\n",
    "scope = rm.open_resource(SCOPE_USBIP)\n",
    "print(\"Connected to Scope\")\n",
    "\n",
    "#query scope\n",
    "scope.write('SYST:REM')\n",
    "print(\"Name \" +scope.query('*IDN?'))\n",
    "\n",
    "# Enable the built-in waveform generator\n",
    "scope.write(':FUNCtion:GENerator ON')\n",
    "print(\"Waveform generator enabled\")\n",
    "\n",
    "# Configure the waveform generator to output a sine wave\n",
    "scope.write(':OUTPUT:FUNCTION SIN')\n",
    "scope.write(':OUTPUT:STATE ON')\n",
    "scope.write(':OUTPUT:FREQUENCY 1000')  # Set the frequency to 1000 Hz\n",
    "scope.write(':OUTPUT:VOLTAGE:AMPLITUDE 1')  # Set the amplitude to 1 V\n",
    "print(\"Waveform generator configured\")\n",
    "\n",
    "scope.write(':AUToscale')\n",
    "time.sleep(5)\n",
    "\n",
    "# Close the oscilloscope connection\n",
    "scope.close()"
   ]
  },
  {
   "attachments": {},
   "cell_type": "markdown",
   "metadata": {},
   "source": [
    "*Connect and Query DMM*"
   ]
  },
  {
   "cell_type": "code",
   "execution_count": 81,
   "metadata": {},
   "outputs": [
    {
     "name": "stdout",
     "output_type": "stream",
     "text": [
      "Connected to DMM\n",
      "NameAgilent Technologies,34405A,MY51260020,1.50-3.14\n",
      "----------Measuring Voltage----------\n",
      "Voltage: 1.8e-05 V\n",
      "----------Measuring Resistance----------\n",
      "Resistance: 9.9e+37 Ohm\n"
     ]
    }
   ],
   "source": [
    "#Connect to DMM\n",
    "dmm = rm.open_resource(DMM_USBIP)\n",
    "print(\"Connected to DMM\")\n",
    "\n",
    "# Set the timeout and read termination characters\n",
    "dmm.timeout = 5000  # 5 seconds\n",
    "dmm.read_termination = '\\n'\n",
    "\n",
    "#query DMM\n",
    "dmm.write('SYST:REM')\n",
    "print(\"Name\" + dmm.query('*IDN?'))\n",
    "\n",
    "# Configure the DMM for voltage measurement\n",
    "print(\"----------Measuring Voltage----------\")\n",
    "dmm.write('CONF:VOLT:DC')\n",
    "time.sleep(.2)  # Wait for configuration to take effect\n",
    "voltage = float(dmm.query('READ?'))\n",
    "print(f\"Voltage: {voltage} V\")\n",
    "\n",
    "# Configure the DMM for resistance measurement\n",
    "print(\"----------Measuring Resistance----------\")\n",
    "dmm.write('CONF:RES')\n",
    "time.sleep(.2)  # Wait for configuration to take effect\n",
    "resistance = float(dmm.query('READ?'))\n",
    "print(f\"Resistance: {resistance} Ohm\")\n",
    "\n",
    "# Close the connection to the DMM\n",
    "dmm.close()\n"
   ]
  },
  {
   "attachments": {},
   "cell_type": "markdown",
   "metadata": {},
   "source": [
    "*Connect and Query Waveform Generator*"
   ]
  },
  {
   "cell_type": "code",
   "execution_count": 87,
   "metadata": {},
   "outputs": [
    {
     "name": "stdout",
     "output_type": "stream",
     "text": [
      "Connected to wavegen.\n"
     ]
    }
   ],
   "source": [
    "#connect to wavegen\n",
    "wavegen = rm.open_resource(WAVEGEN_USBIP, write_termination='\\n', read_termination='\\n', timeout=5000)\n",
    "print(\"Connected to wavegen.\")\n"
   ]
  },
  {
   "cell_type": "code",
   "execution_count": 92,
   "metadata": {},
   "outputs": [
    {
     "ename": "ValueError",
     "evalue": "[Errno 110] Operation timed out",
     "output_type": "error",
     "traceback": [
      "\u001b[0;31m---------------------------------------------------------------------------\u001b[0m",
      "\u001b[0;31mUSBTimeoutError\u001b[0m                           Traceback (most recent call last)",
      "\u001b[0;32m/usr/lib/python3/dist-packages/pyvisa_py/protocols/usbtmc.py\u001b[0m in \u001b[0;36mwrite\u001b[0;34m(self, data)\u001b[0m\n\u001b[1;32m    255\u001b[0m         \u001b[0;32mtry\u001b[0m\u001b[0;34m:\u001b[0m\u001b[0;34m\u001b[0m\u001b[0;34m\u001b[0m\u001b[0m\n\u001b[0;32m--> 256\u001b[0;31m             \u001b[0;32mreturn\u001b[0m \u001b[0mself\u001b[0m\u001b[0;34m.\u001b[0m\u001b[0musb_send_ep\u001b[0m\u001b[0;34m.\u001b[0m\u001b[0mwrite\u001b[0m\u001b[0;34m(\u001b[0m\u001b[0mdata\u001b[0m\u001b[0;34m)\u001b[0m\u001b[0;34m\u001b[0m\u001b[0;34m\u001b[0m\u001b[0m\n\u001b[0m\u001b[1;32m    257\u001b[0m         \u001b[0;32mexcept\u001b[0m \u001b[0musb\u001b[0m\u001b[0;34m.\u001b[0m\u001b[0mcore\u001b[0m\u001b[0;34m.\u001b[0m\u001b[0mUSBError\u001b[0m \u001b[0;32mas\u001b[0m \u001b[0me\u001b[0m\u001b[0;34m:\u001b[0m\u001b[0;34m\u001b[0m\u001b[0;34m\u001b[0m\u001b[0m\n",
      "\u001b[0;32m/usr/lib/python3/dist-packages/usb/core.py\u001b[0m in \u001b[0;36mwrite\u001b[0;34m(self, data, timeout)\u001b[0m\n\u001b[1;32m    407\u001b[0m         \"\"\"\n\u001b[0;32m--> 408\u001b[0;31m         \u001b[0;32mreturn\u001b[0m \u001b[0mself\u001b[0m\u001b[0;34m.\u001b[0m\u001b[0mdevice\u001b[0m\u001b[0;34m.\u001b[0m\u001b[0mwrite\u001b[0m\u001b[0;34m(\u001b[0m\u001b[0mself\u001b[0m\u001b[0;34m,\u001b[0m \u001b[0mdata\u001b[0m\u001b[0;34m,\u001b[0m \u001b[0mtimeout\u001b[0m\u001b[0;34m)\u001b[0m\u001b[0;34m\u001b[0m\u001b[0;34m\u001b[0m\u001b[0m\n\u001b[0m\u001b[1;32m    409\u001b[0m \u001b[0;34m\u001b[0m\u001b[0m\n",
      "\u001b[0;32m/usr/lib/python3/dist-packages/usb/core.py\u001b[0m in \u001b[0;36mwrite\u001b[0;34m(self, endpoint, data, timeout)\u001b[0m\n\u001b[1;32m    988\u001b[0m \u001b[0;34m\u001b[0m\u001b[0m\n\u001b[0;32m--> 989\u001b[0;31m         return fn(\n\u001b[0m\u001b[1;32m    990\u001b[0m                 \u001b[0mself\u001b[0m\u001b[0;34m.\u001b[0m\u001b[0m_ctx\u001b[0m\u001b[0;34m.\u001b[0m\u001b[0mhandle\u001b[0m\u001b[0;34m,\u001b[0m\u001b[0;34m\u001b[0m\u001b[0;34m\u001b[0m\u001b[0m\n",
      "\u001b[0;32m/usr/lib/python3/dist-packages/usb/backend/libusb1.py\u001b[0m in \u001b[0;36mbulk_write\u001b[0;34m(self, dev_handle, ep, intf, data, timeout)\u001b[0m\n\u001b[1;32m    836\u001b[0m     \u001b[0;32mdef\u001b[0m \u001b[0mbulk_write\u001b[0m\u001b[0;34m(\u001b[0m\u001b[0mself\u001b[0m\u001b[0;34m,\u001b[0m \u001b[0mdev_handle\u001b[0m\u001b[0;34m,\u001b[0m \u001b[0mep\u001b[0m\u001b[0;34m,\u001b[0m \u001b[0mintf\u001b[0m\u001b[0;34m,\u001b[0m \u001b[0mdata\u001b[0m\u001b[0;34m,\u001b[0m \u001b[0mtimeout\u001b[0m\u001b[0;34m)\u001b[0m\u001b[0;34m:\u001b[0m\u001b[0;34m\u001b[0m\u001b[0;34m\u001b[0m\u001b[0m\n\u001b[0;32m--> 837\u001b[0;31m         return self.__write(self.lib.libusb_bulk_transfer,\n\u001b[0m\u001b[1;32m    838\u001b[0m                             \u001b[0mdev_handle\u001b[0m\u001b[0;34m,\u001b[0m\u001b[0;34m\u001b[0m\u001b[0;34m\u001b[0m\u001b[0m\n",
      "\u001b[0;32m/usr/lib/python3/dist-packages/usb/backend/libusb1.py\u001b[0m in \u001b[0;36m__write\u001b[0;34m(self, fn, dev_handle, ep, intf, data, timeout)\u001b[0m\n\u001b[1;32m    937\u001b[0m         \u001b[0;32mif\u001b[0m \u001b[0;32mnot\u001b[0m \u001b[0;34m(\u001b[0m\u001b[0mtransferred\u001b[0m\u001b[0;34m.\u001b[0m\u001b[0mvalue\u001b[0m \u001b[0;32mand\u001b[0m \u001b[0mretval\u001b[0m \u001b[0;34m==\u001b[0m \u001b[0mLIBUSB_ERROR_TIMEOUT\u001b[0m\u001b[0;34m)\u001b[0m\u001b[0;34m:\u001b[0m\u001b[0;34m\u001b[0m\u001b[0;34m\u001b[0m\u001b[0m\n\u001b[0;32m--> 938\u001b[0;31m             \u001b[0m_check\u001b[0m\u001b[0;34m(\u001b[0m\u001b[0mretval\u001b[0m\u001b[0;34m)\u001b[0m\u001b[0;34m\u001b[0m\u001b[0;34m\u001b[0m\u001b[0m\n\u001b[0m\u001b[1;32m    939\u001b[0m \u001b[0;34m\u001b[0m\u001b[0m\n",
      "\u001b[0;32m/usr/lib/python3/dist-packages/usb/backend/libusb1.py\u001b[0m in \u001b[0;36m_check\u001b[0;34m(ret)\u001b[0m\n\u001b[1;32m    601\u001b[0m         \u001b[0;32melif\u001b[0m \u001b[0mret\u001b[0m \u001b[0;34m==\u001b[0m \u001b[0mLIBUSB_ERROR_TIMEOUT\u001b[0m\u001b[0;34m:\u001b[0m\u001b[0;34m\u001b[0m\u001b[0;34m\u001b[0m\u001b[0m\n\u001b[0;32m--> 602\u001b[0;31m             \u001b[0;32mraise\u001b[0m \u001b[0mUSBTimeoutError\u001b[0m\u001b[0;34m(\u001b[0m\u001b[0m_strerror\u001b[0m\u001b[0;34m(\u001b[0m\u001b[0mret\u001b[0m\u001b[0;34m)\u001b[0m\u001b[0;34m,\u001b[0m \u001b[0mret\u001b[0m\u001b[0;34m,\u001b[0m \u001b[0m_libusb_errno\u001b[0m\u001b[0;34m[\u001b[0m\u001b[0mret\u001b[0m\u001b[0;34m]\u001b[0m\u001b[0;34m)\u001b[0m\u001b[0;34m\u001b[0m\u001b[0;34m\u001b[0m\u001b[0m\n\u001b[0m\u001b[1;32m    603\u001b[0m         \u001b[0;32melse\u001b[0m\u001b[0;34m:\u001b[0m\u001b[0;34m\u001b[0m\u001b[0;34m\u001b[0m\u001b[0m\n",
      "\u001b[0;31mUSBTimeoutError\u001b[0m: [Errno 110] Operation timed out",
      "\nDuring handling of the above exception, another exception occurred:\n",
      "\u001b[0;31mValueError\u001b[0m                                Traceback (most recent call last)",
      "\u001b[0;32m/tmp/ipykernel_11240/3513825128.py\u001b[0m in \u001b[0;36m<module>\u001b[0;34m\u001b[0m\n\u001b[1;32m      1\u001b[0m \u001b[0;31m#query wavegen\u001b[0m\u001b[0;34m\u001b[0m\u001b[0;34m\u001b[0m\u001b[0m\n\u001b[0;32m----> 2\u001b[0;31m \u001b[0mwavegen\u001b[0m\u001b[0;34m.\u001b[0m\u001b[0mwrite\u001b[0m\u001b[0;34m(\u001b[0m\u001b[0;34m'SYST:REM'\u001b[0m\u001b[0;34m)\u001b[0m\u001b[0;34m\u001b[0m\u001b[0;34m\u001b[0m\u001b[0m\n\u001b[0m\u001b[1;32m      3\u001b[0m \u001b[0mprint\u001b[0m\u001b[0;34m(\u001b[0m\u001b[0mwavegen\u001b[0m\u001b[0;34m.\u001b[0m\u001b[0mwrite\u001b[0m\u001b[0;34m(\u001b[0m\u001b[0;34m'*RST'\u001b[0m\u001b[0;34m)\u001b[0m\u001b[0;34m)\u001b[0m\u001b[0;34m\u001b[0m\u001b[0;34m\u001b[0m\u001b[0m\n\u001b[1;32m      4\u001b[0m \u001b[0mprint\u001b[0m\u001b[0;34m(\u001b[0m\u001b[0mwavegen\u001b[0m\u001b[0;34m.\u001b[0m\u001b[0mquery\u001b[0m\u001b[0;34m(\u001b[0m\u001b[0;34m'*IDN?'\u001b[0m\u001b[0;34m)\u001b[0m\u001b[0;34m)\u001b[0m\u001b[0;34m\u001b[0m\u001b[0;34m\u001b[0m\u001b[0m\n",
      "\u001b[0;32m/usr/lib/python3/dist-packages/pyvisa/resources/messagebased.py\u001b[0m in \u001b[0;36mwrite\u001b[0;34m(self, message, termination, encoding)\u001b[0m\n\u001b[1;32m    195\u001b[0m             \u001b[0mmessage\u001b[0m \u001b[0;34m+=\u001b[0m \u001b[0mterm\u001b[0m\u001b[0;34m\u001b[0m\u001b[0;34m\u001b[0m\u001b[0m\n\u001b[1;32m    196\u001b[0m \u001b[0;34m\u001b[0m\u001b[0m\n\u001b[0;32m--> 197\u001b[0;31m         \u001b[0mcount\u001b[0m \u001b[0;34m=\u001b[0m \u001b[0mself\u001b[0m\u001b[0;34m.\u001b[0m\u001b[0mwrite_raw\u001b[0m\u001b[0;34m(\u001b[0m\u001b[0mmessage\u001b[0m\u001b[0;34m.\u001b[0m\u001b[0mencode\u001b[0m\u001b[0;34m(\u001b[0m\u001b[0menco\u001b[0m\u001b[0;34m)\u001b[0m\u001b[0;34m)\u001b[0m\u001b[0;34m\u001b[0m\u001b[0;34m\u001b[0m\u001b[0m\n\u001b[0m\u001b[1;32m    198\u001b[0m \u001b[0;34m\u001b[0m\u001b[0m\n\u001b[1;32m    199\u001b[0m         \u001b[0;32mreturn\u001b[0m \u001b[0mcount\u001b[0m\u001b[0;34m\u001b[0m\u001b[0;34m\u001b[0m\u001b[0m\n",
      "\u001b[0;32m/usr/lib/python3/dist-packages/pyvisa/resources/messagebased.py\u001b[0m in \u001b[0;36mwrite_raw\u001b[0;34m(self, message)\u001b[0m\n\u001b[1;32m    155\u001b[0m \u001b[0;34m\u001b[0m\u001b[0m\n\u001b[1;32m    156\u001b[0m         \"\"\"\n\u001b[0;32m--> 157\u001b[0;31m         \u001b[0;32mreturn\u001b[0m \u001b[0mself\u001b[0m\u001b[0;34m.\u001b[0m\u001b[0mvisalib\u001b[0m\u001b[0;34m.\u001b[0m\u001b[0mwrite\u001b[0m\u001b[0;34m(\u001b[0m\u001b[0mself\u001b[0m\u001b[0;34m.\u001b[0m\u001b[0msession\u001b[0m\u001b[0;34m,\u001b[0m \u001b[0mmessage\u001b[0m\u001b[0;34m)\u001b[0m\u001b[0;34m[\u001b[0m\u001b[0;36m0\u001b[0m\u001b[0;34m]\u001b[0m\u001b[0;34m\u001b[0m\u001b[0;34m\u001b[0m\u001b[0m\n\u001b[0m\u001b[1;32m    158\u001b[0m \u001b[0;34m\u001b[0m\u001b[0m\n\u001b[1;32m    159\u001b[0m     def write(\n",
      "\u001b[0;32m/usr/lib/python3/dist-packages/pyvisa_py/highlevel.py\u001b[0m in \u001b[0;36mwrite\u001b[0;34m(self, session, data)\u001b[0m\n\u001b[1;32m    541\u001b[0m         \u001b[0;31m# from the session handle, dispatch to the write method of the session object.\u001b[0m\u001b[0;34m\u001b[0m\u001b[0;34m\u001b[0m\u001b[0m\n\u001b[1;32m    542\u001b[0m         \u001b[0;32mtry\u001b[0m\u001b[0;34m:\u001b[0m\u001b[0;34m\u001b[0m\u001b[0;34m\u001b[0m\u001b[0m\n\u001b[0;32m--> 543\u001b[0;31m             \u001b[0mwritten\u001b[0m\u001b[0;34m,\u001b[0m \u001b[0mstatus_code\u001b[0m \u001b[0;34m=\u001b[0m \u001b[0mself\u001b[0m\u001b[0;34m.\u001b[0m\u001b[0msessions\u001b[0m\u001b[0;34m[\u001b[0m\u001b[0msession\u001b[0m\u001b[0;34m]\u001b[0m\u001b[0;34m.\u001b[0m\u001b[0mwrite\u001b[0m\u001b[0;34m(\u001b[0m\u001b[0mdata\u001b[0m\u001b[0;34m)\u001b[0m\u001b[0;34m\u001b[0m\u001b[0;34m\u001b[0m\u001b[0m\n\u001b[0m\u001b[1;32m    544\u001b[0m         \u001b[0;32mexcept\u001b[0m \u001b[0mKeyError\u001b[0m\u001b[0;34m:\u001b[0m\u001b[0;34m\u001b[0m\u001b[0;34m\u001b[0m\u001b[0m\n\u001b[1;32m    545\u001b[0m             \u001b[0;32mreturn\u001b[0m \u001b[0;36m0\u001b[0m\u001b[0;34m,\u001b[0m \u001b[0mself\u001b[0m\u001b[0;34m.\u001b[0m\u001b[0mhandle_return_value\u001b[0m\u001b[0;34m(\u001b[0m\u001b[0msession\u001b[0m\u001b[0;34m,\u001b[0m \u001b[0mStatusCode\u001b[0m\u001b[0;34m.\u001b[0m\u001b[0merror_invalid_object\u001b[0m\u001b[0;34m)\u001b[0m\u001b[0;34m\u001b[0m\u001b[0;34m\u001b[0m\u001b[0m\n",
      "\u001b[0;32m/usr/lib/python3/dist-packages/pyvisa_py/usb.py\u001b[0m in \u001b[0;36mwrite\u001b[0;34m(self, data)\u001b[0m\n\u001b[1;32m    177\u001b[0m         \u001b[0msend_end\u001b[0m\u001b[0;34m,\u001b[0m \u001b[0m_\u001b[0m \u001b[0;34m=\u001b[0m \u001b[0mself\u001b[0m\u001b[0;34m.\u001b[0m\u001b[0mget_attribute\u001b[0m\u001b[0;34m(\u001b[0m\u001b[0mResourceAttribute\u001b[0m\u001b[0;34m.\u001b[0m\u001b[0msend_end_enabled\u001b[0m\u001b[0;34m)\u001b[0m\u001b[0;34m\u001b[0m\u001b[0;34m\u001b[0m\u001b[0m\n\u001b[1;32m    178\u001b[0m \u001b[0;34m\u001b[0m\u001b[0m\n\u001b[0;32m--> 179\u001b[0;31m         \u001b[0mcount\u001b[0m \u001b[0;34m=\u001b[0m \u001b[0mself\u001b[0m\u001b[0;34m.\u001b[0m\u001b[0minterface\u001b[0m\u001b[0;34m.\u001b[0m\u001b[0mwrite\u001b[0m\u001b[0;34m(\u001b[0m\u001b[0mdata\u001b[0m\u001b[0;34m)\u001b[0m\u001b[0;34m\u001b[0m\u001b[0;34m\u001b[0m\u001b[0m\n\u001b[0m\u001b[1;32m    180\u001b[0m \u001b[0;34m\u001b[0m\u001b[0m\n\u001b[1;32m    181\u001b[0m         \u001b[0;32mreturn\u001b[0m \u001b[0mcount\u001b[0m\u001b[0;34m,\u001b[0m \u001b[0mStatusCode\u001b[0m\u001b[0;34m.\u001b[0m\u001b[0msuccess\u001b[0m\u001b[0;34m\u001b[0m\u001b[0;34m\u001b[0m\u001b[0m\n",
      "\u001b[0;32m/usr/lib/python3/dist-packages/pyvisa_py/protocols/usbtmc.py\u001b[0m in \u001b[0;36mwrite\u001b[0;34m(self, data)\u001b[0m\n\u001b[1;32m    434\u001b[0m             \u001b[0mdata\u001b[0m \u001b[0;34m=\u001b[0m \u001b[0mBulkOutMessage\u001b[0m\u001b[0;34m.\u001b[0m\u001b[0mbuild_array\u001b[0m\u001b[0;34m(\u001b[0m\u001b[0mself\u001b[0m\u001b[0;34m.\u001b[0m\u001b[0m_btag\u001b[0m\u001b[0;34m,\u001b[0m \u001b[0meom\u001b[0m\u001b[0;34m,\u001b[0m \u001b[0mdata\u001b[0m\u001b[0;34m[\u001b[0m\u001b[0mbegin\u001b[0m\u001b[0;34m:\u001b[0m\u001b[0mend\u001b[0m\u001b[0;34m]\u001b[0m\u001b[0;34m)\u001b[0m\u001b[0;34m\u001b[0m\u001b[0;34m\u001b[0m\u001b[0m\n\u001b[1;32m    435\u001b[0m \u001b[0;34m\u001b[0m\u001b[0m\n\u001b[0;32m--> 436\u001b[0;31m             \u001b[0mbytes_sent\u001b[0m \u001b[0;34m+=\u001b[0m \u001b[0mraw_write\u001b[0m\u001b[0;34m(\u001b[0m\u001b[0mdata\u001b[0m\u001b[0;34m)\u001b[0m\u001b[0;34m\u001b[0m\u001b[0;34m\u001b[0m\u001b[0m\n\u001b[0m\u001b[1;32m    437\u001b[0m \u001b[0;34m\u001b[0m\u001b[0m\n\u001b[1;32m    438\u001b[0m         \u001b[0;32mreturn\u001b[0m \u001b[0msize\u001b[0m\u001b[0;34m\u001b[0m\u001b[0;34m\u001b[0m\u001b[0m\n",
      "\u001b[0;32m/usr/lib/python3/dist-packages/pyvisa_py/protocols/usbtmc.py\u001b[0m in \u001b[0;36mwrite\u001b[0;34m(self, data)\u001b[0m\n\u001b[1;32m    256\u001b[0m             \u001b[0;32mreturn\u001b[0m \u001b[0mself\u001b[0m\u001b[0;34m.\u001b[0m\u001b[0musb_send_ep\u001b[0m\u001b[0;34m.\u001b[0m\u001b[0mwrite\u001b[0m\u001b[0;34m(\u001b[0m\u001b[0mdata\u001b[0m\u001b[0;34m)\u001b[0m\u001b[0;34m\u001b[0m\u001b[0;34m\u001b[0m\u001b[0m\n\u001b[1;32m    257\u001b[0m         \u001b[0;32mexcept\u001b[0m \u001b[0musb\u001b[0m\u001b[0;34m.\u001b[0m\u001b[0mcore\u001b[0m\u001b[0;34m.\u001b[0m\u001b[0mUSBError\u001b[0m \u001b[0;32mas\u001b[0m \u001b[0me\u001b[0m\u001b[0;34m:\u001b[0m\u001b[0;34m\u001b[0m\u001b[0;34m\u001b[0m\u001b[0m\n\u001b[0;32m--> 258\u001b[0;31m             \u001b[0;32mraise\u001b[0m \u001b[0mValueError\u001b[0m\u001b[0;34m(\u001b[0m\u001b[0mstr\u001b[0m\u001b[0;34m(\u001b[0m\u001b[0me\u001b[0m\u001b[0;34m)\u001b[0m\u001b[0;34m)\u001b[0m\u001b[0;34m\u001b[0m\u001b[0;34m\u001b[0m\u001b[0m\n\u001b[0m\u001b[1;32m    259\u001b[0m \u001b[0;34m\u001b[0m\u001b[0m\n\u001b[1;32m    260\u001b[0m     \u001b[0;32mdef\u001b[0m \u001b[0mread\u001b[0m\u001b[0;34m(\u001b[0m\u001b[0mself\u001b[0m\u001b[0;34m,\u001b[0m \u001b[0msize\u001b[0m\u001b[0;34m)\u001b[0m\u001b[0;34m:\u001b[0m\u001b[0;34m\u001b[0m\u001b[0;34m\u001b[0m\u001b[0m\n",
      "\u001b[0;31mValueError\u001b[0m: [Errno 110] Operation timed out"
     ]
    }
   ],
   "source": [
    "#query wavegen\n",
    "wavegen.write('SYST:REM')\n",
    "print(wavegen.write('*RST'))\n",
    "print(wavegen.query('*IDN?'))\n"
   ]
  },
  {
   "cell_type": "code",
   "execution_count": 86,
   "metadata": {},
   "outputs": [],
   "source": [
    "wavegen.close()"
   ]
  }
 ],
 "metadata": {
  "kernelspec": {
   "display_name": "Python 3",
   "language": "python",
   "name": "python3"
  },
  "language_info": {
   "codemirror_mode": {
    "name": "ipython",
    "version": 3
   },
   "file_extension": ".py",
   "mimetype": "text/x-python",
   "name": "python",
   "nbconvert_exporter": "python",
   "pygments_lexer": "ipython3",
   "version": "3.10.6"
  },
  "orig_nbformat": 4
 },
 "nbformat": 4,
 "nbformat_minor": 2
}
